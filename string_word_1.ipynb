{
  "nbformat": 4,
  "nbformat_minor": 0,
  "metadata": {
    "accelerator": "GPU",
    "colab": {
      "name": "string_word_1.ipynb",
      "provenance": [],
      "collapsed_sections": []
    },
    "kernelspec": {
      "display_name": "Python 3",
      "name": "python3"
    }
  },
  "cells": [
    {
      "cell_type": "code",
      "metadata": {
        "id": "rn_h1AjcNdrZ"
      },
      "source": [
        "import pandas as pd\r\n",
        "import numpy as np\r\n",
        "pd.set_option(\"display.max_columns\", 600)\r\n",
        "\r\n",
        "%matplotlib inline\r\n",
        "import matplotlib.pyplot as plt\r\n",
        "from sklearn.feature_extraction.text import CountVectorizer\r\n",
        "from sklearn.metrics import classification_report,confusion_matrix,accuracy_score\r\n",
        "from sklearn.model_selection import train_test_split\r\n",
        "from sklearn.linear_model import LogisticRegression,SGDClassifier\r\n",
        "from sklearn.naive_bayes import MultinomialNB\r\n"        
      ],
      "execution_count": 49,
      "outputs": []
    },
    {
      "cell_type": "code",
      "metadata": {
        "id": "c7fpCgq7Nq7u"
      },
      "source": [
        "df = pd.read_csv('TRAIN.csv')\r\n",
        "test = pd.read_csv('TEST.csv')"
      ],
      "execution_count": 50,
      "outputs": []
    },
    {
      "cell_type": "code",
      "metadata": {
        "colab": {
          "base_uri": "https://localhost:8080/",
          "height": 194
        },
        "id": "_2l2kVJsOADU",
        "outputId": "2d678ba6-2a57-495d-fc98-9b7bceba7806"
      },
      "source": [
        "df.head()"
      ],
      "execution_count": 51,
      "outputs": [
        {
          "output_type": "execute_result",
          "data": {
            "text/html": [
              "<div>\n",
              "<style scoped>\n",
              "    .dataframe tbody tr th:only-of-type {\n",
              "        vertical-align: middle;\n",
              "    }\n",
              "\n",
              "    .dataframe tbody tr th {\n",
              "        vertical-align: top;\n",
              "    }\n",
              "\n",
              "    .dataframe thead th {\n",
              "        text-align: right;\n",
              "    }\n",
              "</style>\n",
              "<table border=\"1\" class=\"dataframe\">\n",
              "  <thead>\n",
              "    <tr style=\"text-align: right;\">\n",
              "      <th></th>\n",
              "      <th>id</th>\n",
              "      <th>text</th>\n",
              "      <th>category</th>\n",
              "    </tr>\n",
              "  </thead>\n",
              "  <tbody>\n",
              "    <tr>\n",
              "      <th>0</th>\n",
              "      <td>3973</td>\n",
              "      <td>1047 6700 4178 2912 183 6700</td>\n",
              "      <td>0</td>\n",
              "    </tr>\n",
              "    <tr>\n",
              "      <th>1</th>\n",
              "      <td>4462</td>\n",
              "      <td>4035 4563 1994 154 5373 4956 6035 4393 4017 40...</td>\n",
              "      <td>1</td>\n",
              "    </tr>\n",
              "    <tr>\n",
              "      <th>2</th>\n",
              "      <td>2889</td>\n",
              "      <td>5035 7685 3139 4407 254 584 6589 8518 3078</td>\n",
              "      <td>0</td>\n",
              "    </tr>\n",
              "    <tr>\n",
              "      <th>3</th>\n",
              "      <td>3457</td>\n",
              "      <td>1047 2540 2578 6700 2242 230 3771 4676 5881 64...</td>\n",
              "      <td>0</td>\n",
              "    </tr>\n",
              "    <tr>\n",
              "      <th>4</th>\n",
              "      <td>1555</td>\n",
              "      <td>7685 5868 237 6794 3078</td>\n",
              "      <td>0</td>\n",
              "    </tr>\n",
              "  </tbody>\n",
              "</table>\n",
              "</div>"
            ],
            "text/plain": [
              "     id                                               text  category\n",
              "0  3973                       1047 6700 4178 2912 183 6700         0\n",
              "1  4462  4035 4563 1994 154 5373 4956 6035 4393 4017 40...         1\n",
              "2  2889         5035 7685 3139 4407 254 584 6589 8518 3078         0\n",
              "3  3457  1047 2540 2578 6700 2242 230 3771 4676 5881 64...         0\n",
              "4  1555                            7685 5868 237 6794 3078         0"
            ]
          },
          "metadata": {
            "tags": []
          },
          "execution_count": 51
        }
      ]
    },
    {
      "cell_type": "code",
      "metadata": {
        "colab": {
          "base_uri": "https://localhost:8080/",
          "height": 194
        },
        "id": "_zipKaByN_74",
        "outputId": "a94d40df-1aa0-4bdf-de64-d86b40dae178"
      },
      "source": [
        "test.head()"
      ],
      "execution_count": 52,
      "outputs": [
        {
          "output_type": "execute_result",
          "data": {
            "text/html": [
              "<div>\n",
              "<style scoped>\n",
              "    .dataframe tbody tr th:only-of-type {\n",
              "        vertical-align: middle;\n",
              "    }\n",
              "\n",
              "    .dataframe tbody tr th {\n",
              "        vertical-align: top;\n",
              "    }\n",
              "\n",
              "    .dataframe thead th {\n",
              "        text-align: right;\n",
              "    }\n",
              "</style>\n",
              "<table border=\"1\" class=\"dataframe\">\n",
              "  <thead>\n",
              "    <tr style=\"text-align: right;\">\n",
              "      <th></th>\n",
              "      <th>id</th>\n",
              "      <th>text</th>\n",
              "    </tr>\n",
              "  </thead>\n",
              "  <tbody>\n",
              "    <tr>\n",
              "      <th>0</th>\n",
              "      <td>1546</td>\n",
              "      <td>5222 7526 427 4829 7526 1164 4768 997 7924 332...</td>\n",
              "    </tr>\n",
              "    <tr>\n",
              "      <th>1</th>\n",
              "      <td>2956</td>\n",
              "      <td>590 983 5773 8352 1803 237 5045 6300 6267 5773...</td>\n",
              "    </tr>\n",
              "    <tr>\n",
              "      <th>2</th>\n",
              "      <td>4248</td>\n",
              "      <td>5915 4871 2982 6310 2734 3581 5773 6498 5773</td>\n",
              "    </tr>\n",
              "    <tr>\n",
              "      <th>3</th>\n",
              "      <td>4403</td>\n",
              "      <td>5435 1994 7248 1944 4017 3567 8618 5018 6619 3...</td>\n",
              "    </tr>\n",
              "    <tr>\n",
              "      <th>4</th>\n",
              "      <td>2097</td>\n",
              "      <td>6666 230 4768 2684 5773 3656 907 5922 2295 577...</td>\n",
              "    </tr>\n",
              "  </tbody>\n",
              "</table>\n",
              "</div>"
            ],
            "text/plain": [
              "     id                                               text\n",
              "0  1546  5222 7526 427 4829 7526 1164 4768 997 7924 332...\n",
              "1  2956  590 983 5773 8352 1803 237 5045 6300 6267 5773...\n",
              "2  4248       5915 4871 2982 6310 2734 3581 5773 6498 5773\n",
              "3  4403  5435 1994 7248 1944 4017 3567 8618 5018 6619 3...\n",
              "4  2097  6666 230 4768 2684 5773 3656 907 5922 2295 577..."
            ]
          },
          "metadata": {
            "tags": []
          },
          "execution_count": 52
        }
      ]
    },
    {
      "cell_type": "code",
      "metadata": {
        "colab": {
          "base_uri": "https://localhost:8080/",
          "height": 280
        },
        "id": "3cLYJq0xNq5l",
        "outputId": "f41a0e74-2e1f-4353-9c0d-8efb168c5dc7"
      },
      "source": [
        "df.category.value_counts().plot.bar()"
      ],
      "execution_count": 53,
      "outputs": [
        {
          "output_type": "execute_result",
          "data": {
            "text/plain": [
              "<matplotlib.axes._subplots.AxesSubplot at 0x7f6052ea6710>"
            ]
          },
          "metadata": {
            "tags": []
          },
          "execution_count": 53
        },
        {
          "output_type": "display_data",
          "data": {
            "image/png": "[encoded data removed]",
            "text/plain": [
              "<Figure size 432x288 with 1 Axes>"
            ]
          },
          "metadata": {
            "tags": [],
            "needs_background": "light"
          }
        }
      ]
    },
    {
      "cell_type": "code",
      "metadata": {
        "colab": {
          "base_uri": "https://localhost:8080/"
        },
        "id": "USE7C9BaNq3E",
        "outputId": "0271b111-5cec-4e32-8e0a-ffb49d0bb016"
      },
      "source": [
        "df.category.value_counts()"
      ],
      "execution_count": 54,
      "outputs": [
        {
          "output_type": "execute_result",
          "data": {
            "text/plain": [
              "0    2472\n",
              "1      86\n",
              "Name: category, dtype: int64"
            ]
          },
          "metadata": {
            "tags": []
          },
          "execution_count": 54
        }
      ]
    },
    {
      "cell_type": "code",
      "metadata": {
        "id": "e8vbR1moNq0i"
      },
      "source": [
        "dff = df.drop(['id','category'],1)\r\n",
        "\r\n",
        "for cols in dff:\r\n",
        "    dff[cols] = dff[cols].astype('str')"
      ],
      "execution_count": 55,
      "outputs": []
    },
    {
      "cell_type": "code",
      "metadata": {
        "id": "id1x9RBmNqyK"
      },
      "source": [
        "test_dff = test.drop('id',1)\r\n",
        "\r\n",
        "for col in test_dff:\r\n",
        "    test_dff[col] = test_dff[col].astype('str')"
      ],
      "execution_count": 56,
      "outputs": []
    },
    {
      "cell_type": "code",
      "metadata": {
        "id": "RN9LGLVDNqlT"
      },
      "source": [
        "X = dff.text\r\n",
        "y = df['category']\r\n",
        "\r\n",
        "X_train, X_test, y_train, y_test = train_test_split(X, y, test_size=0.2,random_state=8)"
      ],
      "execution_count": 57,
      "outputs": []
    },
    {
      "cell_type": "code",
      "metadata": {
        "id": "MIE6slJGQmUF"
      },
      "source": [
        "count_vec = CountVectorizer(max_features=4000,lowercase=False, ngram_range=(1,2),max_df=0.9,min_df=0)"
      ],
      "execution_count": 58,
      "outputs": []
    },
    {
      "cell_type": "code",
      "metadata": {
        "id": "NZKd2UW6QmRZ"
      },
      "source": [
        "x_train_features = count_vec.fit_transform(X_train).todense()\r\n",
        "x_test_features = count_vec.transform(X_test).todense()\r\n"
      ],
      "execution_count": 59,
      "outputs": []
    },
    {
      "cell_type": "code",
      "metadata": {
        "id": "jOAvzEX7LlTz"
      },
      "source": [
        "x_test_prediction = count_vec.transform(test_dff.text).todense()"
      ],
      "execution_count": 60,
      "outputs": []
    },
    {
      "cell_type": "code",
      "metadata": {
        "colab": {
          "base_uri": "https://localhost:8080/"
        },
        "id": "lqBq2Fxucn0B",
        "outputId": "b395f500-a5da-4916-c6e0-26d637c60a7d"
      },
      "source": [
        "x_train_features.shape"
      ],
      "execution_count": 61,
      "outputs": [
        {
          "output_type": "execute_result",
          "data": {
            "text/plain": [
              "(2046, 4000)"
            ]
          },
          "metadata": {
            "tags": []
          },
          "execution_count": 61
        }
      ]
    },
    {
      "cell_type": "code",
      "metadata": {
        "colab": {
          "base_uri": "https://localhost:8080/"
        },
        "id": "MTri6LKMNqiq",
        "outputId": "2ea25e8f-2e20-45b6-edcc-2a083ec57910"
      },
      "source": [
        "from imblearn.over_sampling import RandomOverSampler\r\n",
        "\r\n",
        "ros = RandomOverSampler(random_state=0)\r\n",
        "X_train_ovr, y_train_ovr = ros.fit_sample(x_train_features, y_train)"
      ],
      "execution_count": 62,
      "outputs": [
        {
          "output_type": "stream",
          "text": [
            "/usr/local/lib/python3.6/dist-packages/sklearn/utils/deprecation.py:87: FutureWarning: Function safe_indexing is deprecated; safe_indexing is deprecated in version 0.22 and will be removed in version 0.24.\n",
            "  warnings.warn(msg, category=FutureWarning)\n"
          ],
          "name": "stderr"
        }
      ]
    },
    {
      "cell_type": "code",
      "metadata": {
        "colab": {
          "base_uri": "https://localhost:8080/"
        },
        "id": "B2pGYqTvNqgL",
        "outputId": "99b6b9a6-2f36-4d7a-f568-5884b70227a4"
      },
      "source": [
        "divsion = pd.DataFrame({'category':y_train_ovr})\r\n",
        "divsion.category.value_counts()"
      ],
      "execution_count": 63,
      "outputs": [
        {
          "output_type": "execute_result",
          "data": {
            "text/plain": [
              "1    1975\n",
              "0    1975\n",
              "Name: category, dtype: int64"
            ]
          },
          "metadata": {
            "tags": []
          },
          "execution_count": 63
        }
      ]
    },
    {
      "cell_type": "code",
      "metadata": {
        "colab": {
          "base_uri": "https://localhost:8080/"
        },
        "id": "9UyaQ5eyNqda",
        "outputId": "76255fa4-3523-45c2-93d2-ada3ae84f010"
      },
      "source": [
        "from sklearn.feature_selection import RFE\r\n",
        "nb_clf = MultinomialNB()\r\n",
        "\r\n",
        "# selector = RFE(nb_clf,200)\r\n",
        "# X_train_rfe = selector.fit_transform(X_train_ovr, y_train_ovr)\r\n",
        "# X_test_rfe=selector.transform(x_test_features)\r\n",
        "\r\n",
        "nb_clf.fit(X_train_ovr, y_train_ovr)\r\n",
        "y_pred = nb_clf.predict(x_test_features)\r\n",
        "print(accuracy_score(y_test,y_pred)*100)"
      ],
      "execution_count": 64,
      "outputs": [
        {
          "output_type": "stream",
          "text": [
            "98.6328125\n"
          ],
          "name": "stdout"
        }
      ]
    },
    {
      "cell_type": "code",
      "metadata": {
        "colab": {
          "base_uri": "https://localhost:8080/"
        },
        "id": "NZwp9lePNqYX",
        "outputId": "f9017506-733c-4771-a664-e5fc8fd922a6"
      },
      "source": [
        "from sklearn.metrics import precision_score\r\n",
        "\r\n",
        "print(precision_score(y_test,y_pred, average='macro'))\r\n"
      ],
      "execution_count": 65,
      "outputs": [
        {
          "output_type": "stream",
          "text": [
            "0.8590868196131354\n"
          ],
          "name": "stdout"
        }
      ]
    },
    {
      "cell_type": "code",
      "metadata": {
        "id": "EJNMCX7ZNqVw",
        "colab": {
          "base_uri": "https://localhost:8080/"
        },
        "outputId": "fcada028-91bf-465c-db81-0a57aa5d9592"
      },
      "source": [
        "lr = LogisticRegression(random_state=2)\r\n",
        "\r\n",
        "# selector = RFE(lr,158)\r\n",
        "# X_train_rfe = selector.fit_transform(X_train_ovr, y_train_ovr)\r\n",
        "# X_test_rfe=selector.transform(x_test_features)\r\n",
        "\r\n",
        "\r\n",
        "lr.fit(X_train_ovr, y_train_ovr)\r\n",
        "\r\n",
        "y_pred_lr = lr.predict(x_test_features)\r\n",
        "print(classification_report(y_test,y_pred_lr))\r\n",
        "\r\n",
        "print(\"precision score is\", precision_score(y_test,y_pred_lr,average='macro'))"
      ],
      "execution_count": 66,
      "outputs": [
        {
          "output_type": "stream",
          "text": [
            "              precision    recall  f1-score   support\n",
            "\n",
            "           0       0.99      1.00      0.99       497\n",
            "           1       0.86      0.80      0.83        15\n",
            "\n",
            "    accuracy                           0.99       512\n",
            "   macro avg       0.93      0.90      0.91       512\n",
            "weighted avg       0.99      0.99      0.99       512\n",
            "\n",
            "precision score is 0.9255593803786575\n"
          ],
          "name": "stdout"
        }
      ]
    },
    {
      "cell_type": "code",
      "metadata": {
        "id": "Myh-WVZtSA2w",
        "colab": {
          "base_uri": "https://localhost:8080/"
        },
        "outputId": "7a1589f5-ed55-492c-bf29-e9cac5620b66"
      },
      "source": [
        "from sklearn.ensemble import RandomForestClassifier\r\n",
        "\r\n",
        "rf_clf = RandomForestClassifier(random_state=3)\r\n",
        "\r\n",
        "# selector = RFE(rf_clf,158)\r\n",
        "# X_train_rf = selector.fit_transform(X_train_ovr, y_train_ovr)\r\n",
        "# X_test_rf=selector.transform(x_test_features)\r\n",
        "\r\n",
        "rf_clf.fit(X_train_ovr, y_train_ovr)\r\n",
        "predicted_rf = rf_clf.predict(x_test_features)\r\n",
        "print(\"SVC classification chart:\\n\",classification_report(y_test, predicted_rf))\r\n",
        "print(\"precision score is\", precision_score(y_test, predicted_rf,average='macro'))"
      ],
      "execution_count": 67,
      "outputs": [
        {
          "output_type": "stream",
          "text": [
            "SVC classification chart:\n",
            "               precision    recall  f1-score   support\n",
            "\n",
            "           0       0.99      1.00      0.99       497\n",
            "           1       1.00      0.53      0.70        15\n",
            "\n",
            "    accuracy                           0.99       512\n",
            "   macro avg       0.99      0.77      0.84       512\n",
            "weighted avg       0.99      0.99      0.98       512\n",
            "\n",
            "precision score is 0.9930555555555556\n"
          ],
          "name": "stdout"
        }
      ]
    },
    {
      "cell_type": "code",
      "metadata": {
        "id": "qUVnqiuK4def",
        "colab": {
          "base_uri": "https://localhost:8080/"
        },
        "outputId": "9fcec928-0459-4af6-e814-8381fbd287ca"
      },
      "source": [
        "from sklearn.ensemble import GradientBoostingClassifier\r\n",
        "\r\n",
        "clf_gb=GradientBoostingClassifier(random_state=2)\r\n",
        "\r\n",
        "# selector = RFE(clf_gb,158)\r\n",
        "# X_train_gb = selector.fit_transform(X_train_ovr, y_train_ovr)\r\n",
        "# X_test_gb=selector.transform(x_test_features)\r\n",
        "\r\n",
        "clf_gb.fit(X_train_ovr, y_train_ovr)\r\n",
        "\r\n",
        "predicted_xgb = clf_gb.predict(x_test_features)\r\n",
        "print(\"SVC classification chart:\\n\",classification_report(y_test, predicted_xgb))\r\n",
        "print(\"precision score is\", precision_score(y_test, predicted_xgb,average='macro'))\r\n"
      ],
      "execution_count": 68,
      "outputs": [
        {
          "output_type": "stream",
          "text": [
            "SVC classification chart:\n",
            "               precision    recall  f1-score   support\n",
            "\n",
            "           0       0.99      0.99      0.99       497\n",
            "           1       0.79      0.73      0.76        15\n",
            "\n",
            "    accuracy                           0.99       512\n",
            "   macro avg       0.89      0.86      0.88       512\n",
            "weighted avg       0.99      0.99      0.99       512\n",
            "\n",
            "precision score is 0.8888410786001147\n"
          ],
          "name": "stdout"
        }
      ]
    },
    {
      "cell_type": "code",
      "metadata": {
        "id": "BZFDbsJjNqS5"
      },
      "source": [
        "#testt_dff = test_dff.drop('id',1)"
      ],
      "execution_count": 69,
      "outputs": []
    },
    {
      "cell_type": "code",
      "metadata": {
        "id": "tiaLxcevT6uu"
      },
      "source": [
        "#test_dff = test_dff.iloc[:,0:103]"
      ],
      "execution_count": 70,
      "outputs": []
    },
    {
      "cell_type": "code",
      "metadata": {
        "colab": {
          "base_uri": "https://localhost:8080/",
          "height": 399
        },
        "id": "LdfRA313NqPX",
        "outputId": "04f5a138-3691-4fe5-9152-75aeeaa9c4fb"
      },
      "source": [
        "final_1 = nb_clf.predict(x_test_prediction)\r\n",
        "output = pd.DataFrame(data = final_1, columns=['category'])\r\n",
        "output.to_csv('string_word_1.csv', index=False)\r\n",
        "output"
      ],
      "execution_count": 71,
      "outputs": [
        {
          "output_type": "execute_result",
          "data": {
            "text/html": [
              "<div>\n",
              "<style scoped>\n",
              "    .dataframe tbody tr th:only-of-type {\n",
              "        vertical-align: middle;\n",
              "    }\n",
              "\n",
              "    .dataframe tbody tr th {\n",
              "        vertical-align: top;\n",
              "    }\n",
              "\n",
              "    .dataframe thead th {\n",
              "        text-align: right;\n",
              "    }\n",
              "</style>\n",
              "<table border=\"1\" class=\"dataframe\">\n",
              "  <thead>\n",
              "    <tr style=\"text-align: right;\">\n",
              "      <th></th>\n",
              "      <th>category</th>\n",
              "    </tr>\n",
              "  </thead>\n",
              "  <tbody>\n",
              "    <tr>\n",
              "      <th>0</th>\n",
              "      <td>0</td>\n",
              "    </tr>\n",
              "    <tr>\n",
              "      <th>1</th>\n",
              "      <td>0</td>\n",
              "    </tr>\n",
              "    <tr>\n",
              "      <th>2</th>\n",
              "      <td>0</td>\n",
              "    </tr>\n",
              "    <tr>\n",
              "      <th>3</th>\n",
              "      <td>1</td>\n",
              "    </tr>\n",
              "    <tr>\n",
              "      <th>4</th>\n",
              "      <td>0</td>\n",
              "    </tr>\n",
              "    <tr>\n",
              "      <th>...</th>\n",
              "      <td>...</td>\n",
              "    </tr>\n",
              "    <tr>\n",
              "      <th>861</th>\n",
              "      <td>0</td>\n",
              "    </tr>\n",
              "    <tr>\n",
              "      <th>862</th>\n",
              "      <td>0</td>\n",
              "    </tr>\n",
              "    <tr>\n",
              "      <th>863</th>\n",
              "      <td>0</td>\n",
              "    </tr>\n",
              "    <tr>\n",
              "      <th>864</th>\n",
              "      <td>0</td>\n",
              "    </tr>\n",
              "    <tr>\n",
              "      <th>865</th>\n",
              "      <td>0</td>\n",
              "    </tr>\n",
              "  </tbody>\n",
              "</table>\n",
              "<p>866 rows × 1 columns</p>\n",
              "</div>"
            ],
            "text/plain": [
              "     category\n",
              "0           0\n",
              "1           0\n",
              "2           0\n",
              "3           1\n",
              "4           0\n",
              "..        ...\n",
              "861         0\n",
              "862         0\n",
              "863         0\n",
              "864         0\n",
              "865         0\n",
              "\n",
              "[866 rows x 1 columns]"
            ]
          },
          "metadata": {
            "tags": []
          },
          "execution_count": 71
        }
      ]
    }
  ]
}
